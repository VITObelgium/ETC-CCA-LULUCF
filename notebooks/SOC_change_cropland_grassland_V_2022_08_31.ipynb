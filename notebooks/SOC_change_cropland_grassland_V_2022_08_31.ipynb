{
 "cells": [
  {
   "cell_type": "markdown",
   "id": "b2dc1aff",
   "metadata": {},
   "source": [
    "# IPCC Tier 1 method SOC change simulation for cropland and grassland under different scenarios\n",
    "\n",
    "In this example notebook the impact on the SOC for different reference managment or input scenarios will be calculated and visualized.\n",
    "This notebook is developed in such a way, that that user can play around with different scenarios and analyze the outcome.\n",
    "\n",
    "The **IPCC** layers and LUT tables will be used in the first place to create these scenarios"
   ]
  },
  {
   "cell_type": "markdown",
   "id": "c8d14e2d",
   "metadata": {},
   "source": [
    "#### Load impact packages"
   ]
  },
  {
   "cell_type": "code",
   "execution_count": 1,
   "id": "a73c06fe",
   "metadata": {},
   "outputs": [],
   "source": [
    "import os\n",
    "import glob\n",
    "from pathlib import Path\n",
    "import geopandas as gpd\n",
    "from loguru import logger\n",
    "from pathlib import Path\n",
    "import geopandas as gpd\n",
    "import sys\n",
    "import matplotlib.pyplot as plt"
   ]
  },
  {
   "attachments": {
    "8f70df23-5c8c-4c78-8483-ded691117220.png": {
     "image/png": "[encoded data removed]"
    }
   },
   "cell_type": "markdown",
   "id": "ed617ccc",
   "metadata": {},
   "source": [
    "#### IPCC scenario calculation for SOC under cropland and grassland\n",
    "\n",
    "The following formula is the basis for estimating SOC change under different situations for cropland and grassland based on the Tier 1 method. The **stock change factors** are the changeable parameters that will determine the outcome for SOC. <br>\n",
    "![image.png](attachment:8f70df23-5c8c-4c78-8483-ded691117220.png)\n",
    "<br>\n",
    "\n",
    "With: <br>\n",
    "**SOCRef**: The reference carbon stock under a specific IPCC climate and soil type zone <br>\n",
    "**FLU** : Stock change factor for land-use systems or sub-system for a particular land-use, dimensionless <br>\n",
    "**FMG**: Stock change factor for management regime, dimensionless <br>\n",
    "**FI**: Stock change factor for input of organic matter, dimensionless <br>\n",
    "**D**: Time dependence of stock change factors which is the default time period for transition between equilibrium SOC values (usely 20 yrs) <br>"
   ]
  },
  {
   "cell_type": "markdown",
   "id": "319e55fd",
   "metadata": {},
   "source": [
    "#### Define input folders and reference data"
   ]
  },
  {
   "cell_type": "code",
   "execution_count": 2,
   "id": "b267ec08",
   "metadata": {},
   "outputs": [],
   "source": [
    "# the location of the basefolder in which all the input data needed for the simulation is provided\n",
    "#!!!!!! Should be changed once know central location for data access\n",
    "Basefolder_input_data = os.path.join(os.getcwd(), 'data')\n",
    "\n",
    "### the basefolder in which all the output results will be stored\n",
    "#!!!!!! Should be changed once know central location for data access\n",
    "Basefolder_output =  os.path.join(os.getcwd(), 'output')\n",
    "\n",
    "### the folder which provided the look-up-tables for converting the IPCC layers to stock change factors\n",
    "### or a SOCref, this information is needed if not other high resolution data is available on SOC \n",
    "SOC_LUT_folder = os.path.join(Basefolder_input_data, 'SOC_LUT')\n",
    "\n",
    "## the directory of the IPCC climate & soil raster that will be needed for the SOC scenarios and SOC ref calculation\n",
    "IPCC_climate_raster = os.path.join(Basefolder_input_data, 'IPCC_layers', 'climate', 'ipcc_climate_zone_100m_EPSG3035_EEA39.tif') \n",
    "IPCC_soil_raster = os.path.join(Basefolder_input_data, 'IPCC_layers', 'soil', 'ipcc_soil_type_100m_EPSG3035_EEA39.tif') \n",
    "\n",
    "## location of the CLC map needed to calculate the FLU factor\n",
    "CLC_ACC_folder = os.path.join(Basefolder_input_data, 'CLC_ACC')\n",
    "CLC_ACC_layer = os.path.join(CLC_ACC_folder, 'CLC2018ACC_V2018_20.tif')\n",
    "\n",
    "\n",
    "# location with the NUTS LEVEL 0 administrative boundaries\n",
    "NUTS_layer = os.path.join(Basefolder_input_data, 'NUTS', 'NUTS_RG_20M_2021_3035.shp')\n",
    "\n",
    "## location of the SOCref layer based on the IPCC soil and climate layers and using the LUT\n",
    "SOCref_layer = os.path.join(Basefolder_output, 'SOC_REF', 'SOC_REF_IPCC_climate_soil_100m.tif')\n",
    "\n",
    "### location of the code to run the scenarios\n",
    "sys.path.append(Path(os.getcwd()).parent.joinpath('src').as_posix())\n",
    "from SOC_scenarios.utils.soc_helper_functions import *\n"
   ]
  },
  {
   "cell_type": "markdown",
   "id": "ac3aff2d",
   "metadata": {},
   "source": [
    "### Scenario definition \n",
    "\n",
    "The user will have the flexibility to define different scenarios for **FLU** & **FI**, options listed below:\n",
    "Below some information on the possibilities:\n",
    " \n",
    "##### FMG (Management) Cropland options:\n",
    "\n",
    "1: Full tillage <br>\n",
    "2: Reduced <br>\n",
    "3: No-till <br>\n",
    "\n",
    "##### FI (Input) Cropland options:\n",
    "\n",
    "1: Low <br>\n",
    "2: Medium <br>\n",
    "3: High without manure <br>\n",
    "4: High with manure <br>\n",
    "\n",
    "\n",
    "##### FMG Grassland options:\n",
    "\n",
    "1: Nominally managed <br>\n",
    "2: Moderately degraded <br>\n",
    "3: Severely degraded <br>\n",
    "4: Improved grassland <br>\n",
    "\n",
    "\n",
    "##### FI (Input) Grassland options:\n",
    "\n",
    "1: Nominal <br>\n",
    "2: High <br>\n",
    "\n",
    "\n",
    "\n",
    "#### Define here the selected options per land use category:"
   ]
  },
  {
   "cell_type": "code",
   "execution_count": 3,
   "id": "c979713a",
   "metadata": {},
   "outputs": [],
   "source": [
    "#### the scenario settings to define\n",
    "dict_stock_change_factors = {\n",
    "    'Cropland': {'FMG': 3, 'FI': 4},\n",
    "    'Grassland': {'FMG': 1, 'FI': 1}}\n",
    "\n",
    "scenario_name = 'Scenario1' # this will be the suffix of the output scenario file"
   ]
  },
  {
   "cell_type": "markdown",
   "id": "bf164fc1",
   "metadata": {},
   "source": [
    "#### Specify area of interest\n",
    "(running on the entire EEA39 extent is not recommended in a Notebook environment due to memory limitations!)\n",
    "\n",
    "Options for selecting countries are the following ones:\n",
    "'FR'\n",
    "'HR'\n",
    "'HU'\n",
    "'AL'\n",
    "'AT'\n",
    "'BE'\n",
    "'BG'\n",
    "'CH'\n",
    "'CY'\n",
    "'CZ'\n",
    "'DE'\n",
    "'DK'\n",
    "'EE'\n",
    "'EL'\n",
    "'IE'\n",
    "'ES'\n",
    "'FI'\n",
    "'IS'\n",
    "'PT'\n",
    "'RO'\n",
    "'RS'\n",
    "'SE'\n",
    "'SI'\n",
    "'SK'\n",
    "'TR'\n",
    "'UK'\n",
    "'NO'\n",
    "'IT'\n",
    "'LI'\n",
    "'LT'\n",
    "'LU'\n",
    "'LV'\n",
    "'ME'\n",
    "'MK'\n",
    "'MT'\n",
    "'NL'\n",
    "'PL'"
   ]
  },
  {
   "cell_type": "code",
   "execution_count": 4,
   "id": "92f52b7d",
   "metadata": {},
   "outputs": [],
   "source": [
    "#select now the country of interest\n",
    "Country = 'FR'\n",
    "\n",
    "## dictionary that will define all the flexible parameters that are set by the user\n",
    "settings = {\n",
    "    'Country': Country,\n",
    "    'year_focus': 2018, # the reference year for the calculation\n",
    "    'CLC_ACC_folder': CLC_ACC_folder,\n",
    "    'Basefolder_input_data': Basefolder_input_data ,\n",
    "    'Basefolder_output': Basefolder_output,\n",
    "    'SOC_LUT_folder': SOC_LUT_folder,\n",
    "    'Stock_change_scenario': dict_stock_change_factors, # the settings to create the stock change factors\n",
    "    'Scaling': 100, # the factors of the IPCC LUT are multiplied by 100 to save memory ,\n",
    "    'Scenario_name': scenario_name,\n",
    "    'Fixed_factor_FMG': True,\n",
    "    'Fixed_factor_FI': True,\n",
    "    'overwrite': False\n",
    "}"
   ]
  },
  {
   "cell_type": "markdown",
   "id": "3a1f67ed",
   "metadata": {},
   "source": [
    "#### Clipping of reference layers to the desired AOI"
   ]
  },
  {
   "cell_type": "code",
   "execution_count": 5,
   "id": "7ce1a9fb",
   "metadata": {},
   "outputs": [],
   "source": [
    "### clip the CLC ACC layer to the country of interest\n",
    "mask_raster_extent([CLC_ACC_layer], gpd.read_file(NUTS_layer)\n",
    "                           , Path(CLC_ACC_layer).parent,settings,\n",
    "                           overwrite=False, Country_clipping=True)\n",
    "\n",
    "### Clip the SOCref to the proper extent\n",
    "mask_raster_extent([SOCref_layer], gpd.read_file(NUTS_layer)\n",
    "                           , Path(SOCref_layer).parent,settings,\n",
    "                           overwrite=False, Country_clipping=True)\n",
    "\n",
    "## Clipping of the IPCC climate layer\n",
    "mask_raster_extent([IPCC_climate_raster], gpd.read_file(NUTS_layer)\n",
    "                           , Path(IPCC_climate_raster).parent,settings,\n",
    "                           overwrite=False, Country_clipping=True)\n",
    "\n",
    "settings.update({'path_IPCC_climate_resampled': Path(glob.glob(os.path.join((Path(IPCC_climate_raster).parent).as_posix(),Country, '*.tif'))[0])})\n"
   ]
  },
  {
   "cell_type": "markdown",
   "id": "54661604",
   "metadata": {},
   "source": [
    "#### Generation of stock change factor layer"
   ]
  },
  {
   "cell_type": "code",
   "execution_count": 6,
   "id": "4ad88eb7",
   "metadata": {},
   "outputs": [
    {
     "name": "stderr",
     "output_type": "stream",
     "text": [
      "/usr/local/lib64/python3.6/site-packages/pandas/core/ops/__init__.py:1115: FutureWarning: elementwise comparison failed; returning scalar instead, but in the future will perform elementwise comparison\n",
      "  result = method(y)\n"
     ]
    }
   ],
   "source": [
    "###### FLU LAYER GENERATION\n",
    "create_FLU_layer(SOC_LUT_folder,settings)\n"
   ]
  },
  {
   "cell_type": "code",
   "execution_count": 7,
   "id": "bb830eb1",
   "metadata": {},
   "outputs": [],
   "source": [
    "###### FMG LAYER GENERATION\n",
    "create_factor_layer(settings, type_factor='FMG'\n",
    "                    ,fixed_factor_creation=settings.get('Fixed_factor_FMG'))\n",
    "\n",
    "#### FI LAYER GENERATION\n",
    "create_factor_layer(settings, type_factor='FI'\n",
    "                    ,fixed_factor_creation=settings.get('Fixed_factor_FI'))\n",
    "\n"
   ]
  },
  {
   "cell_type": "markdown",
   "id": "f32328fb",
   "metadata": {},
   "source": [
    "## SOC scenario calculation\n",
    "\n",
    "**Unit**: tonnes C/pixel"
   ]
  },
  {
   "cell_type": "code",
   "execution_count": 8,
   "id": "b2681b1d",
   "metadata": {},
   "outputs": [],
   "source": [
    "### NOW THE FINAL SOC BASED ON THE DEFINED SCENARIO CAN BE CALCULATED\n",
    "create_SOC_scenario_layer(settings)"
   ]
  },
  {
   "cell_type": "markdown",
   "id": "eb983775",
   "metadata": {},
   "source": [
    "### Visualize result"
   ]
  },
  {
   "cell_type": "code",
   "execution_count": 9,
   "id": "d6ddabf9",
   "metadata": {},
   "outputs": [
    {
     "data": {
      "text/plain": [
       "<matplotlib.colorbar.Colorbar at 0x7fd4152a7e80>"
      ]
     },
     "execution_count": 9,
     "metadata": {},
     "output_type": "execute_result"
    },
    {
     "data": {
      "image/png": "[encoded data removed]",
      "text/plain": [
       "<Figure size 432x288 with 2 Axes>"
      ]
     },
     "metadata": {
      "needs_background": "light"
     },
     "output_type": "display_data"
    }
   ],
   "source": [
    "dir_SOC_scenario = os.path.join(os.getcwd(), 'output', 'SOC_scenario', Country,'SOC_{}_{}.tif'.format(scenario_name, Country))\n",
    "SOC_outcome_array = rasterio.open(dir_SOC_scenario).read(1)\n",
    "\n",
    "plt.imshow(SOC_outcome_array, cmap=plt.get_cmap('RdYlGn'),\n",
    "               vmin=0, vmax=200)\n",
    "plt.colorbar()"
   ]
  }
 ],
 "metadata": {
  "kernelspec": {
   "display_name": "Python 3",
   "language": "python",
   "name": "python3"
  },
  "language_info": {
   "codemirror_mode": {
    "name": "ipython",
    "version": 3
   },
   "file_extension": ".py",
   "mimetype": "text/x-python",
   "name": "python",
   "nbconvert_exporter": "python",
   "pygments_lexer": "ipython3",
   "version": "3.6.8"
  }
 },
 "nbformat": 4,
 "nbformat_minor": 5
}
