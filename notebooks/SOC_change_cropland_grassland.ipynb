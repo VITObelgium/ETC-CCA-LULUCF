{
 "cells": [
  {
   "cell_type": "markdown",
   "id": "5ae191d9",
   "metadata": {},
   "source": [
    "#### SOC change simulation for cropland and grassland for different scenarios\n",
    "\n",
    "In this example notebook the impact on the SOC for different reference managment or input scenarios will be calculated and visualized.\n",
    "This notebook is developed in such a way, that that user can play around with different scenarios and analyze the outcome.\n",
    "\n",
    "The **IPCC** layers and LUT tables will be used in the first place to create these scenarios"
   ]
  },
  {
   "cell_type": "markdown",
   "id": "507d19af",
   "metadata": {},
   "source": [
    "#### Load impact packages"
   ]
  },
  {
   "cell_type": "code",
   "execution_count": 1,
   "id": "e145ea5b",
   "metadata": {},
   "outputs": [],
   "source": [
    "import os\n",
    "import glob\n",
    "from pathlib import Path\n",
    "import geopandas as gpd\n",
    "from loguru import logger"
   ]
  },
  {
   "cell_type": "markdown",
   "id": "893e3033",
   "metadata": {},
   "source": [
    "#### Define input folders and reference data"
   ]
  },
  {
   "cell_type": "code",
   "execution_count": 3,
   "id": "4620ff87",
   "metadata": {},
   "outputs": [],
   "source": [
    "### the folder which provided the look-up-tables for converting the IPCC layers to stock change factors\n",
    "### or a SOCref, this information is neede if not other high resolution data is available on SOC \n",
    "SOC_LUT_folder = r'/data/inca_vol1/etc/lulucf/strata/SOC_LUT'\n",
    "\n",
    "## the directory of the IPCC climate & soil raster that will be needed for the SOC scenarios and SOC ref calculation\n",
    "IPCC_climate_raster = r\"/data/inca_vol1/etc/lulucf/input_data/IPCC/IPCC_data_converted/climate_final_map/ipcc_climate_zone_100m_EPSG3035_EEA39.tif\"\n",
    "IPCC_soil_raster = r\"/data/inca_vol1/etc/lulucf/input_data/IPCC/IPCC_data_converted/soil_final_map/ipcc_soil_type_100m_EPSG3035_EEA39.tif\"\n",
    "\n",
    "## the FLU layer is also default as the CLC layer is used for this\n",
    "IPCC_FLU_layer = r'/data/inca_vol1/etc/lulucf/strata/SOC_FLU/CLC2018ACC_V2018_20_IPCC_FLU_mapped.tif'\n"
   ]
  },
  {
   "cell_type": "markdown",
   "id": "6e17783f",
   "metadata": {},
   "source": [
    "### Scenario definition \n",
    "\n",
    "Some scenarios can be defined according to different management or input situations.\n",
    "Below some information on the possibilities:\n",
    " \n",
    "##### FMG (Management) Cropland options:\n",
    "\n",
    "1: Full tillage <br>\n",
    "2: Reduced <br>\n",
    "3: No-till <br>\n",
    "\n",
    "##### FI (Input) Cropland options:\n",
    "\n",
    "1: Low <br>\n",
    "2: Medium <br>\n",
    "3: High without manure <br>\n",
    "4: High with manure <br>\n",
    "\n",
    "\n",
    "##### FMG Grassland options:\n",
    "\n",
    "1: Nominally managed <br>\n",
    "2: Moderately degraded <br>\n",
    "3: Severely degraded <br>\n",
    "4: Improved grassland <br>\n",
    "\n",
    "\n",
    "##### FI (Input) Grassland options:\n",
    "\n",
    "1: Nominal <br>\n",
    "2: High <br>\n",
    "\n",
    "\n",
    "\n"
   ]
  },
  {
   "cell_type": "code",
   "execution_count": null,
   "id": "c5c52066",
   "metadata": {},
   "outputs": [],
   "source": [
    "#### the scenario settings to define\n",
    "dict_stock_change_factors = {\n",
    "    'Cropland': {'FMG': 1, 'FI': 2},\n",
    "    'Grassland': {'FMG': 1, 'FI': 1}}\n",
    "\n",
    "scenario_name = 'Scenario1' # this will be the suffix of the output scenario file"
   ]
  },
  {
   "cell_type": "markdown",
   "id": "e16ab25c",
   "metadata": {},
   "source": [
    "#### Generation of stock change factor layer"
   ]
  },
  {
   "cell_type": "code",
   "execution_count": null,
   "id": "5ce3f777",
   "metadata": {},
   "outputs": [],
   "source": [
    "###### FMG LAYER GENERATION\n",
    "create_factor_layer(settings, type_factor='FMG'\n",
    "                    ,fixed_factor_creation=settings.get('Fixed_factor_FMG'))\n",
    "\n",
    "#### FI LAYER GENERATION\n",
    "create_factor_layer(settings, type_factor='FI'\n",
    "                    ,fixed_factor_creation=settings.get('Fixed_factor_FI'))\n",
    "\n",
    "### NOW THE FINAL SOC BASED ON THE DEFINED SCENARIO CAN BE CALCULATED\n",
    "create_SOC_scenario_layer(settings)"
   ]
  }
 ],
 "metadata": {
  "kernelspec": {
   "display_name": "Python 3",
   "language": "python",
   "name": "python3"
  },
  "language_info": {
   "codemirror_mode": {
    "name": "ipython",
    "version": 3
   },
   "file_extension": ".py",
   "mimetype": "text/x-python",
   "name": "python",
   "nbconvert_exporter": "python",
   "pygments_lexer": "ipython3",
   "version": "3.6.8"
  }
 },
 "nbformat": 4,
 "nbformat_minor": 5
}
